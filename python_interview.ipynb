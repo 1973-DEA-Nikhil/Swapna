{
 "cells": [
  {
   "cell_type": "code",
   "execution_count": 1,
   "id": "ae91efa7-13a7-4275-a8b1-578f9621e22c",
   "metadata": {},
   "outputs": [
    {
     "name": "stdout",
     "output_type": "stream",
     "text": [
      "{1: {'name': 'Alice', 'age': 25, 'city': 'New York'}, 2: {'name': 'Bob', 'age': 30, 'city': 'San Francisco'}}\n"
     ]
    }
   ],
   "source": [
    "#1\n",
    "from typing import List, Dict, Union\n",
    "\n",
    "def transform_data(rows: List[Dict[str, Union[str, int]]]) -> Dict[int, Dict[str, Union[str, int]]]:\n",
    "    result = {}\n",
    "    for row in rows:\n",
    "        user_id = row[\"user_id\"]\n",
    "        result[user_id] = {\"name\": row[\"name\"], \"age\": row[\"age\"], \"city\": row[\"city\"]}\n",
    "    return result\n",
    "\n",
    "# Example usage\n",
    "rows = [\n",
    "    {\"user_id\": 1, \"name\": \"Alice\", \"age\": 25, \"city\": \"New York\"},\n",
    "    {\"user_id\": 2, \"name\": \"Bob\", \"age\": 30, \"city\": \"San Francisco\"}\n",
    "]\n",
    "print(transform_data(rows))\n"
   ]
  },
  {
   "cell_type": "code",
   "execution_count": null,
   "id": "1cd5bcd7-45cc-42c4-a05d-0c98babee64c",
   "metadata": {},
   "outputs": [],
   "source": [
    "#2\n"
   ]
  }
 ],
 "metadata": {
  "kernelspec": {
   "display_name": "Python 3 (ipykernel)",
   "language": "python",
   "name": "python3"
  },
  "language_info": {
   "codemirror_mode": {
    "name": "ipython",
    "version": 3
   },
   "file_extension": ".py",
   "mimetype": "text/x-python",
   "name": "python",
   "nbconvert_exporter": "python",
   "pygments_lexer": "ipython3",
   "version": "3.10.1"
  }
 },
 "nbformat": 4,
 "nbformat_minor": 5
}
