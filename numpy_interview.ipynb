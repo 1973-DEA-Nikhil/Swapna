{
 "cells": [
  {
   "cell_type": "code",
   "execution_count": 1,
   "id": "ce93194e-70e7-4d4d-8f44-73c271bfc6e8",
   "metadata": {},
   "outputs": [],
   "source": [
    "import numpy as np"
   ]
  },
  {
   "cell_type": "code",
   "execution_count": 12,
   "id": "bd779238-9897-41bc-b561-03c4c2d1a1d4",
   "metadata": {},
   "outputs": [
    {
     "name": "stdout",
     "output_type": "stream",
     "text": [
      "[[ 1  2  3  4  5]\n",
      " [ 6  7  8  9 10]]\n"
     ]
    }
   ],
   "source": [
    "\"\"\"Problem Statement: Given a list of numbers, write a function that converts the list to a NumPy array, \n",
    "reshapes it into a 2D array with a specified number of columns, and returns the reshaped array.\"\"\"\n",
    "\n",
    "def reshape(lst,num_col):\n",
    "    np_array = np.array(lst)\n",
    "    if len(lst) % num_col != 0:\n",
    "        raise ValueError(\"can't reshape\")\n",
    "    num_rows = len(lst) // num_col\n",
    "    reshaped_array = np_array.reshape(num_rows,num_col)\n",
    "    return reshaped_array\n",
    "lst = [1,2,3,4,5,6,7,8,9,10]\n",
    "num_col = 5\n",
    "print(reshape(lst,num_col))\n",
    "    \n",
    "    "
   ]
  },
  {
   "cell_type": "code",
   "execution_count": 4,
   "id": "872bcae7-c9c0-4609-8173-83190730df62",
   "metadata": {},
   "outputs": [
    {
     "name": "stdout",
     "output_type": "stream",
     "text": [
      "{'mean': 4.5, 'median': 4.5, 'std': 1.707825127659933, 'var': 2.9166666666666665}\n"
     ]
    }
   ],
   "source": [
    "\"\"\"2.Write a function that takes a NumPy array of numerical data and returns \n",
    "a dictionary containing the mean, median, standard deviation, and variance of the array.\"\"\"\n",
    "\n",
    "def stats(my_array):\n",
    "    my_dict = {\n",
    "        \"mean\":np.mean(my_array),\n",
    "        \"median\":np.median(my_array),\n",
    "        \"std\": np.std(my_array),\n",
    "        \"var\":np.var(my_array)}\n",
    "    return my_dict\n",
    "my_array = [2,4,6,3,5,7]\n",
    "print(stats(my_array))\n",
    "        "
   ]
  },
  {
   "cell_type": "code",
   "execution_count": 15,
   "id": "6850eea1-692a-4359-a3d3-6e938fee7133",
   "metadata": {},
   "outputs": [
    {
     "name": "stdout",
     "output_type": "stream",
     "text": [
      "[ 1  4  9 16]\n"
     ]
    }
   ],
   "source": [
    "\"\"\"3.Create a function that takes two NumPy arrays of the same shape and returns \n",
    "a new array that contains the element-wise product of the two arrays. Handle cases where the arrays may contain zeros.\"\"\"\n",
    "import numpy as np\n",
    "def product_array(arr1,arr2):\n",
    "    if arr1.shape != arr2.shape:\n",
    "        raise ValueError(\"not matching\")\n",
    "    return arr1 * arr2\n",
    "arr1=np.array([1,2,3,4])\n",
    "arr2=np.array([1,2,3,4])\n",
    "print(product_array(arr1,arr2))\n",
    "        "
   ]
  },
  {
   "cell_type": "code",
   "execution_count": 24,
   "id": "465c32ed-80a9-45ac-8aa3-a2c8d1cfdc1e",
   "metadata": {},
   "outputs": [
    {
     "name": "stdout",
     "output_type": "stream",
     "text": [
      "original array :  [10 25 35 40 50]\n",
      "even array :  [10 40 50]\n"
     ]
    }
   ],
   "source": [
    "\"\"\"4. Given a NumPy array of integers, write a function that returns a \n",
    "new array containing only the even numbers from the original array. Use NumPy’s masking capabilities to achieve this.\"\"\"\n",
    "\"\"\"\n",
    "def filter_even_numbers(arr):\n",
    "    new_arr = []\n",
    "    for i in arr:\n",
    "        if i % 2 == 0:\n",
    "            new_arr.append(i)\n",
    "    return new_arr\n",
    "arr = np.array([1,2,3,4,5,6,7,8,9,10])\n",
    "print(filter_even_numbers(arr))\"\"\"\n",
    "\n",
    "def filter_even_numbers(original_arr):\n",
    "    mask = (original_arr % 2 == 0)\n",
    "    even_num = original_arr[mask]\n",
    "    return even_num\n",
    "original_arr = np.array([10,25,35,40,50])\n",
    "even_arr = filter_even_numbers(original_arr)\n",
    "print(\"original array : \", original_arr)\n",
    "print(\"even array : \", even_arr)\n"
   ]
  },
  {
   "cell_type": "code",
   "execution_count": 29,
   "id": "6689d9e4-728f-402f-a982-ecf71806fee4",
   "metadata": {},
   "outputs": [
    {
     "name": "stdout",
     "output_type": "stream",
     "text": [
      "[[19 16 18]\n",
      " [55 48 54]]\n"
     ]
    }
   ],
   "source": [
    "\"\"\" 5.Write a function that takes two 2D NumPy arrays (matrices) and computes their dot product. Ensure that the function checks the dimensions of \n",
    "the matrices to confirm that the dot product can be performed.\"\"\"\n",
    "\n",
    "def matrix_dot_product(arr1,arr2):\n",
    "    return np.dot(arr1,arr2)\n",
    "arr1 = np.array([[1,2,3],[5,6,7]])\n",
    "arr2 = np.array([[1,3,4],[6,2,1],[2,3,4]])\n",
    "print(matrix_dot_product(arr1,arr2))"
   ]
  },
  {
   "cell_type": "code",
   "execution_count": 43,
   "id": "890d3858-6bab-40e6-be3a-13897223d824",
   "metadata": {},
   "outputs": [
    {
     "name": "stdout",
     "output_type": "stream",
     "text": [
      "Concatenated Array along axis 0:\n",
      "[[ 1  2  3]\n",
      " [ 4  5  6]\n",
      " [ 7  8  9]\n",
      " [10 11 12]\n",
      " [13 14 15]\n",
      " [16 17 18]]\n",
      "\n",
      "Concatenated Array along axis 1:\n",
      "[[ 1  2  3  7  8  9 13 14 15]\n",
      " [ 4  5  6 10 11 12 16 17 18]]\n"
     ]
    }
   ],
   "source": [
    "#6\n",
    "def concatenate_arrays(array_list, axis=0):\n",
    "    return np.concatenate(array_list, axis=axis)\n",
    "\n",
    "arr1 = np.array([[1, 2, 3], \n",
    "                  [4, 5, 6]])\n",
    "\n",
    "arr2 = np.array([[7, 8, 9], \n",
    "                  [10, 11, 12]])\n",
    "\n",
    "arr3 = np.array([[13, 14, 15], \n",
    "                  [16, 17, 18]])\n",
    "\n",
    "array_list = [arr1, arr2, arr3]\n",
    "\n",
    "result = concatenate_arrays(array_list)\n",
    "\n",
    "print(\"Concatenated Array along axis 0:\")\n",
    "print(result)\n",
    "result_axis1 = concatenate_arrays(array_list, axis=1)\n",
    "\n",
    "print(\"\\nConcatenated Array along axis 1:\")\n",
    "print(result_axis1)\n"
   ]
  },
  {
   "cell_type": "code",
   "execution_count": 42,
   "id": "fbff2374-2e8a-49c1-9ec7-82cc101eb04d",
   "metadata": {},
   "outputs": [
    {
     "name": "stdout",
     "output_type": "stream",
     "text": [
      "Original Array: [5 2 8 1 9]\n",
      "Sorted Array: [1 2 5 8 9]\n",
      "Indices that would sort the original array: [3 1 0 2 4]\n"
     ]
    }
   ],
   "source": [
    "#7\n",
    "def sorted_array_with_indices(arr):  \n",
    "    indices = np.argsort(arr)\n",
    "    sorted_arr = arr[indices]\n",
    "    return sorted_arr, indices\n",
    "original_arr = np.array([5, 2, 8, 1, 9])\n",
    "sorted_arr, indices = sorted_array_with_indices(original_arr)\n",
    "\n",
    "print(\"Original Array:\", original_arr)\n",
    "print(\"Sorted Array:\", sorted_arr)\n",
    "print(\"Indices that would sort the original array:\", indices)\n"
   ]
  },
  {
   "cell_type": "code",
   "execution_count": 41,
   "id": "c6399c35-c52e-4df2-8967-145d51ecc8f0",
   "metadata": {},
   "outputs": [
    {
     "name": "stdout",
     "output_type": "stream",
     "text": [
      "Transposed 3D Array:\n",
      "[[[ 1  7]\n",
      "  [ 3  9]\n",
      "  [ 5 11]]\n",
      "\n",
      " [[ 2  8]\n",
      "  [ 4 10]\n",
      "  [ 6 12]]]\n"
     ]
    }
   ],
   "source": [
    "#8\n",
    "def reshape_and_transpose(arr, dim1, dim2, dim3):\n",
    "    if arr.size != dim1 * dim2 * dim3:\n",
    "        raise ValueError(\"Cannot reshape array of size {} into shape ({}, {}, {})\".format(arr.size, dim1, dim2, dim3))\n",
    "\n",
    "    reshaped_array = arr.reshape((dim1, dim2, dim3))\n",
    "    transposed_array = reshaped_array.transpose()  \n",
    "    return transposed_array\n",
    "original_array = np.array([1, 2, 3, 4, 5, 6, 7, 8, 9, 10, 11, 12])\n",
    "dim1, dim2, dim3 = 2, 3, 2  \n",
    "\n",
    "try:\n",
    "    result = reshape_and_transpose(original_array, dim1, dim2, dim3)\n",
    "    print(\"Transposed 3D Array:\")\n",
    "    print(result)\n",
    "except ValueError as e:\n",
    "    print(e)\n"
   ]
  },
  {
   "cell_type": "code",
   "execution_count": 39,
   "id": "a7b30bce-eee0-4999-b3de-3b4e35ac491e",
   "metadata": {},
   "outputs": [
    {
     "name": "stdout",
     "output_type": "stream",
     "text": [
      "Unique values: [1 2 3 4 5]\n",
      "Counts: [1 2 1 3 2]\n"
     ]
    }
   ],
   "source": [
    "#9\n",
    "from typing import Tuple\n",
    "\n",
    "def unique_values_and_counts(data: np.ndarray) -> Tuple[np.ndarray, np.ndarray]:\n",
    "    unique_values, counts = np.unique(data, return_counts=True)\n",
    "    return unique_values, counts\n",
    "\n",
    "data = np.array([1, 2, 2, 3, 4, 4, 4, 5, 5])\n",
    "unique_vals, counts = unique_values_and_counts(data)\n",
    "\n",
    "print(\"Unique values:\", unique_vals)\n",
    "print(\"Counts:\", counts)\n"
   ]
  },
  {
   "cell_type": "code",
   "execution_count": 40,
   "id": "ad8d10c1-ed2b-48b5-bb39-7a4c4befdefd",
   "metadata": {},
   "outputs": [
    {
     "name": "stdout",
     "output_type": "stream",
     "text": [
      "Resulting Array:\n",
      " [[11 22 33]\n",
      " [14 25 36]\n",
      " [17 28 39]]\n"
     ]
    }
   ],
   "source": [
    "#10\n",
    "def add_1d_to_2d(array_2d: np.ndarray, array_1d: np.ndarray) -> np.ndarray:\n",
    "    if array_1d.ndim != 1:\n",
    "        raise ValueError(\"The second argument must be a 1D array.\")\n",
    "    result = array_2d + array_1d\n",
    "    return result\n",
    "\n",
    "array_2d = np.array([[1, 2, 3],\n",
    "                     [4, 5, 6],\n",
    "                     [7, 8, 9]])\n",
    "\n",
    "array_1d = np.array([10, 20, 30])\n",
    "\n",
    "result_array = add_1d_to_2d(array_2d, array_1d)\n",
    "print(\"Resulting Array:\\n\", result_array)\n"
   ]
  },
  {
   "cell_type": "code",
   "execution_count": null,
   "id": "d9e62f54-8363-433a-a89c-b51e8cc3a0fd",
   "metadata": {},
   "outputs": [],
   "source": []
  }
 ],
 "metadata": {
  "kernelspec": {
   "display_name": "Python 3 (ipykernel)",
   "language": "python",
   "name": "python3"
  },
  "language_info": {
   "codemirror_mode": {
    "name": "ipython",
    "version": 3
   },
   "file_extension": ".py",
   "mimetype": "text/x-python",
   "name": "python",
   "nbconvert_exporter": "python",
   "pygments_lexer": "ipython3",
   "version": "3.10.1"
  }
 },
 "nbformat": 4,
 "nbformat_minor": 5
}
